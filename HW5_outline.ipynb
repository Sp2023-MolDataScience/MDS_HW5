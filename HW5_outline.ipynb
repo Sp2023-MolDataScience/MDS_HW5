{
 "cells": [
  {
   "cell_type": "code",
   "execution_count": 34,
   "metadata": {},
   "outputs": [],
   "source": [
    "import pandas as pd\n",
    "import numpy as np\n",
    "from sklearn.cross_decomposition import PLSRegression\n",
    "import matplotlib.pyplot as plt\n",
    "from sklearn.metrics import r2_score\n",
    "from sklearn.metrics import mean_squared_error\n",
    "from sklearn import model_selection\n",
    "\n",
    "four_phosphoProteins = ['p-ERK1/2', 'p-HSP27', 'p-Akt', 'p-p70 S6K']"
   ]
  },
  {
   "cell_type": "code",
   "execution_count": 2,
   "metadata": {},
   "outputs": [],
   "source": [
    "X = pd.read_csv('Cosgrove_X_zscore_appended.csv', index_col=0)\n",
    "Y = pd.read_csv('Cosgrove_Y_zscore.csv', index_col = 0)"
   ]
  },
  {
   "cell_type": "code",
   "execution_count": 25,
   "metadata": {},
   "outputs": [],
   "source": [
    "# To measure percent variance explained, through the regression coefficient, run cross-fold validation \n",
    "# from 1 to 20 components\n",
    "perc_var = []\n",
    "for i in np.arange(1, 20):\n",
    "    pls = PLSRegression(n_components=i)\n",
    "    pls.fit(X, Y)\n",
    "    y_fit = pls.predict(X)\n",
    "    perc_var.append(r2_score(y_fit, Y))\n",
    "\n"
   ]
  },
  {
   "cell_type": "code",
   "execution_count": 26,
   "metadata": {},
   "outputs": [],
   "source": [
    "# PLSR with 17 components and full signaling matrix\n",
    "ncomp = 17\n",
    "pls = PLSRegression(n_components=ncomp)\n",
    "pls.fit(X, Y)\n",
    "\n",
    "#loadings, scores, and coefficients are part of the pls class \n",
    "#example, x_loadings\n",
    "x_loadings = pls.x_loadings_\n",
    "\n",
    "#get percent variance explained in X\n",
    "total_variance_in_x = np.var(X, axis = 0)\n",
    "variance_in_x = np.var(pls.x_scores_, axis = 0) \n",
    "fractions_of_explained_variance_x = variance_in_x / sum(total_variance_in_x)\n",
    "\n",
    "\n",
    "#find the predicted outputs \n",
    "y_fit = pls.predict(X)\n",
    "\n",
    "\n"
   ]
  },
  {
   "cell_type": "code",
   "execution_count": 38,
   "metadata": {},
   "outputs": [],
   "source": [
    "# PLSR with 4 phosphoprotein model, 4 principal components\n",
    "\n",
    "# First get the columns of X that are from the four phosphoprotein models\n",
    "timeCols = ['0.33hr', '4hr',  '24hr', '48hr', 'lateAvg', 'integral']\n",
    "fourProteinCols = []\n",
    "for signal in four_phosphoProteins:\n",
    "    for time in timeCols:\n",
    "        fourProteinCols.append(\"%s_%s\"%(signal,time))\n",
    "X_sub = X[fourProteinCols]\n",
    "\n",
    "ncomp = 4\n",
    "pls = PLSRegression(n_components=ncomp)\n",
    "pls.fit(X_sub, Y)\n",
    "\n",
    "#loadings, scores, and coefficients are part of the pls class \n",
    "#example, x_loadings\n",
    "x_loadings = pls.x_loadings_\n",
    "\n",
    "#get percent variance explained in X\n",
    "total_variance_in_x = np.var(X_sub, axis = 0)\n",
    "variance_in_x = np.var(pls.x_scores_, axis = 0) \n",
    "fractions_of_explained_variance_x = variance_in_x / sum(total_variance_in_x)\n",
    "\n",
    "\n",
    "#find the predicted outputs \n",
    "y_fit = pls.predict(X_sub)"
   ]
  },
  {
   "cell_type": "code",
   "execution_count": 45,
   "metadata": {},
   "outputs": [],
   "source": [
    "# Example of leave one out cross-validation, get y_fit in a leave-one-out cross-validation\n",
    "ncomp = 4\n",
    "pls = PLSRegression(n_components=ncomp)\n",
    "\n",
    "X_data = X_sub.to_numpy()\n",
    "Y_data = Y.to_numpy()\n",
    "\n",
    "loo = model_selection.LeaveOneOut()\n",
    "loo.get_n_splits(X)\n",
    "y_fit = []\n",
    "y_true = []\n",
    "for train_index, test_index in loo.split(X_sub):\n",
    "    pls.fit(X_data[train_index], Y_data[train_index])\n",
    "    y_true.append(Y_data[test_index])\n",
    "    y_fit.append(pls.predict(X_data[test_index]))"
   ]
  },
  {
   "cell_type": "code",
   "execution_count": null,
   "metadata": {},
   "outputs": [],
   "source": []
  }
 ],
 "metadata": {
  "kernelspec": {
   "display_name": "Python 3",
   "language": "python",
   "name": "python3"
  },
  "language_info": {
   "codemirror_mode": {
    "name": "ipython",
    "version": 3
   },
   "file_extension": ".py",
   "mimetype": "text/x-python",
   "name": "python",
   "nbconvert_exporter": "python",
   "pygments_lexer": "ipython3",
   "version": "3.7.6"
  }
 },
 "nbformat": 4,
 "nbformat_minor": 2
}
